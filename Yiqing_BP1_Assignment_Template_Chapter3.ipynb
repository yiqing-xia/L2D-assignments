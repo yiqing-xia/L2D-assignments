{
 "cells": [
  {
   "cell_type": "markdown",
   "metadata": {},
   "source": [
    "# Chapter 3 - End of Chapter Exercises"
   ]
  },
  {
   "cell_type": "markdown",
   "metadata": {},
   "source": [
    "__End of Chapter Exercises__"
   ]
  },
  {
   "cell_type": "markdown",
   "metadata": {},
   "source": [
    "1. Protein Kinases have a phosphorylation site and a consensus sequence has been determined for these sites (Rust and Thompson, 2012). All the proteins incorporate either a Serine or a Threonine residue that gets phosphorylated. Naturally, the consensus sequence for each protein varies slightly from that of other proteins. When studying a polypeptide in the lab, a colleague realised that it has a phosphorylated Serine. So they tried to sequence the polypeptide, and managed to obtain a sequence for the protein:\n",
    "\n",
    "```\n",
    "kinase_peptide = (\n",
    "    \"PVWNETFVFNLKPGDVERRLSVEVWDWDRTSRNDFMGAMSFGVSELLK\" \n",
    "    \"APVDGWYKLLNQEEGEYYNVPVADADNCSLLQKFEACNYPLELYERVR\" \n",
    "    \"MGPSSSPIPSPSPSPTDPKRCFFGASPGRLHISDFSFLMRRRKGSFGK\" \n",
    "    \"VMLAERRGSDELYAIKILKKDVIVQDDDVDCTLVEKRVLALGGRGPGG\" \n",
    "    \"RPHFLTQLHSTFQTPDRLYFVMEYVTGGDLMYHIQQLGKFKEPHAAFY\" \n",
    "    \"AAEIAIGLFFLHNQGIIYRDLKLDNVMLDAEGHIKITDFGMCKENVF\"\n",
    ")\n",
    "```\n",
    "\n",
    "Desperate to find a match, and knowing that we are good at doing “computer stuff”, they asked us if we can help them identify what protein kinase does the sequence correspond to? So we extract the consensus sequence of 3 protein kinases from the paper:\n",
    "\n",
    "- PKC-$\\eta$: either RKGSFRR or RRRSFRR\n",
    "- PKC-$\\gamma$: either RRRKGSF or RRRKKSF\n",
    "- DMPK-E: one of KKRRRSL, RKRRRSL, KKRRRSV, or RKRRRSV.\n",
    "\n",
    "Now all we need is to write a conditional statement in Python to identify which of the above protein kinases, if any, does our sequence correspond to. That is, which one of the consensus peptides exists in our mystery sequence?\n",
    "\n",
    "If there is a match, our programme should display the name of the corresponding protein kinase; otherwise, it should say \"No matches found\".\n"
   ]
  },
  {
   "cell_type": "code",
   "execution_count": 2,
   "metadata": {},
   "outputs": [
    {
     "name": "stdout",
     "output_type": "stream",
     "text": [
      "kinase_peptide is a PKC-𝛾\n"
     ]
    }
   ],
   "source": [
    "PKC_𝜂 = 'RKGSFRR' or 'RRRSFRR'\n",
    "PKC_𝛾 = 'RRRKGSF' or 'RRRKKSF'\n",
    "DMPK_E = 'KKRRRSL' or 'RKRRRSL' or 'KKRRRSV' or 'RKRRRSV'\n",
    "kinase_peptide = (\n",
    "    \"PVWNETFVFNLKPGDVERRLSVEVWDWDRTSRNDFMGAMSFGVSELLK\" \n",
    "    \"APVDGWYKLLNQEEGEYYNVPVADADNCSLLQKFEACNYPLELYERVR\" \n",
    "    \"MGPSSSPIPSPSPSPTDPKRCFFGASPGRLHISDFSFLMRRRKGSFGK\" \n",
    "    \"VMLAERRGSDELYAIKILKKDVIVQDDDVDCTLVEKRVLALGGRGPGG\" \n",
    "    \"RPHFLTQLHSTFQTPDRLYFVMEYVTGGDLMYHIQQLGKFKEPHAAFY\" \n",
    "    \"AAEIAIGLFFLHNQGIIYRDLKLDNVMLDAEGHIKITDFGMCKENVF\")\n",
    "if PKC_𝜂 in kinase_peptide:\n",
    "    print ('kinase_peptide is a PKC-𝜂')\n",
    "elif PKC_𝛾 in kinase_peptide:\n",
    "    print ('kinase_peptide is a PKC-𝛾')\n",
    "elif DMPK_E in kinase_peptide:\n",
    "    print ('kinase_peptide is a DMPK-E')\n",
    "else:\n",
    "    print ('No matches found')\n",
    "    "
   ]
  }
 ],
 "metadata": {
  "kernelspec": {
   "display_name": "Python 3 (ipykernel)",
   "language": "python",
   "name": "python3"
  },
  "language_info": {
   "codemirror_mode": {
    "name": "ipython",
    "version": 3
   },
   "file_extension": ".py",
   "mimetype": "text/x-python",
   "name": "python",
   "nbconvert_exporter": "python",
   "pygments_lexer": "ipython3",
   "version": "3.9.13"
  },
  "toc-autonumbering": false,
  "toc-showmarkdowntxt": false,
  "toc-showtags": false
 },
 "nbformat": 4,
 "nbformat_minor": 4
}
