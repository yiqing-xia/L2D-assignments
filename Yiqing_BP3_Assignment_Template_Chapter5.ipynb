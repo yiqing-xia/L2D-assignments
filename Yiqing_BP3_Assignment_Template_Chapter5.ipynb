{
 "cells": [
  {
   "cell_type": "markdown",
   "metadata": {},
   "source": [
    "# Chapter 5 - End of Chapter Exercises"
   ]
  },
  {
   "cell_type": "markdown",
   "metadata": {},
   "source": [
    "1. Can you explain the reason why in the example given in subsection 5.2.3 we set minimum to be equal to the first value of our array instead of, for instance zero or some other number?\n",
    "\n",
    "Store your answer in a variable and display it using __print()__.\n"
   ]
  },
  {
   "cell_type": "code",
   "execution_count": 1,
   "metadata": {},
   "outputs": [
    {
     "name": "stdout",
     "output_type": "stream",
     "text": [
      "Because we want to evaluate the smallest number in the array, and the first value may be smaller than 0 or a given number\n"
     ]
    }
   ],
   "source": [
    "print('Because we want to evaluate the smallest number in the array, and the first value may be smaller than 0 or a given number')"
   ]
  },
  {
   "cell_type": "markdown",
   "metadata": {},
   "source": [
    "2. Write a script that using a for-loop, calculates the sum of all numbers in an array defined as follows:\n",
    "\n",
    "```\n",
    "numbers = [0, -2.1, 1.5, 3]\n",
    "```\n",
    "\n",
    "and display the result as:\n",
    "\n",
    "```\n",
    "Sum of the numbers in the array is 2.4\n",
    "```"
   ]
  },
  {
   "cell_type": "code",
   "execution_count": 2,
   "metadata": {},
   "outputs": [
    {
     "name": "stdout",
     "output_type": "stream",
     "text": [
      "Sum of the numbers in the array is  2.4\n"
     ]
    }
   ],
   "source": [
    "numbers = [0, -2.1, 1.5, 3]\n",
    "sum = 0\n",
    "for item in numbers:\n",
    "    sum += item\n",
    "print ('Sum of the numbers in the array is ', sum)"
   ]
  },
  {
   "cell_type": "markdown",
   "metadata": {},
   "source": [
    "3. Given an array of integer values as:\n",
    "\n",
    "```\n",
    "numbers = [2, 1, 3]\n",
    "```\n",
    "\n",
    "write a script that using for-loops, displays each number in the list as many time as the number\n",
    "itself. The programme must therefore display 2 twice, 1 once, and 3 three times."
   ]
  },
  {
   "cell_type": "code",
   "execution_count": 5,
   "metadata": {},
   "outputs": [
    {
     "name": "stdout",
     "output_type": "stream",
     "text": [
      "2\n",
      "2\n",
      "1\n",
      "3\n",
      "3\n",
      "3\n"
     ]
    }
   ],
   "source": [
    "numbers = [2, 1, 3]\n",
    "\n",
    "for value in numbers:\n",
    "    prepped_value = [value] * value\n",
    "\n",
    "    for number in prepped_value:\n",
    "        print(number)"
   ]
  },
  {
   "cell_type": "markdown",
   "metadata": {},
   "source": [
    "4. Given a list of numbers defined as:\n",
    "\n",
    "```\n",
    "numbers = [7, 16, 0.3, 0, 15, -4, 5, 3, 15]\n",
    "```\n",
    "\n",
    "write a script that using at most two for-loops, finds the variance of the numbers, and display the mean, and the variance. Note that you will need to calculate the mean as a part of your calculations to find the variance.\n",
    "The equation for calculating the variance is:\n",
    "\n",
    "$$ \\sigma^2 = \\frac{\\sum_{i=1}^{n}(x_i - \\mu)^2 }{n} $$\n",
    "\n",
    "__Hint:__ Breaking down the problem into smaller pieces will simplify the process of translating it into code and thereby solving it:\n",
    "\n",
    "a) Work out the Mean or $\\mu$ (the simple average of the numbers): \n",
    "\n",
    "$$ \\mu = \\frac{\\sum_{i=1}^{n}}{n} $$\n",
    "\n",
    "\n",
    "b) Calculate the sum of: each number ($x_i$) subtracted by the\n",
    "Mean ($\\mu$) - and square the result.\n",
    "\n",
    "c) Divide the resulting number by the length of the number.\n",
    "\n",
    "\n",
    "Display the results in the following format:\n",
    "\n",
    "```\n",
    "Mean: XXXX \n",
    "Variance: XXXX\n",
    "```"
   ]
  },
  {
   "cell_type": "code",
   "execution_count": 9,
   "metadata": {},
   "outputs": [
    {
     "name": "stdout",
     "output_type": "stream",
     "text": [
      "Mean:  6.366666666666666\n",
      "Variance:  48.919999999999995\n"
     ]
    }
   ],
   "source": [
    "numbers = [7, 16, 0.3, 0, 15, -4, 5, 3, 15]\n",
    "mean = 0\n",
    "summation = 0\n",
    "counter = 1\n",
    "mediator = 0\n",
    "variance = 0\n",
    "for item in numbers:\n",
    "    summation += item\n",
    "    mean = summation/counter\n",
    "    counter += 1\n",
    "print ('Mean: ', mean)\n",
    "\n",
    "counter = 1\n",
    "for item in numbers:\n",
    "    mediator += (item-mean)**2\n",
    "    variance = mediator/counter\n",
    "    counter += 1\n",
    "print ('Variance: ', variance)\n"
   ]
  }
 ],
 "metadata": {
  "kernelspec": {
   "display_name": "Python 3 (ipykernel)",
   "language": "python",
   "name": "python3"
  },
  "language_info": {
   "codemirror_mode": {
    "name": "ipython",
    "version": 3
   },
   "file_extension": ".py",
   "mimetype": "text/x-python",
   "name": "python",
   "nbconvert_exporter": "python",
   "pygments_lexer": "ipython3",
   "version": "3.10.9"
  },
  "toc-autonumbering": false,
  "toc-showmarkdowntxt": false,
  "toc-showtags": false
 },
 "nbformat": 4,
 "nbformat_minor": 4
}
